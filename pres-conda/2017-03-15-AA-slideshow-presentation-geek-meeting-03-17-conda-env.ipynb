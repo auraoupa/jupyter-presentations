{
 "cells": [
  {
   "cell_type": "markdown",
   "metadata": {
    "collapsed": true,
    "slideshow": {
     "slide_type": "slide"
    }
   },
   "source": [
    "\n",
    "<table width=\"100%\" style=\"border: none;\">\n",
    "<tr style=\"border: none;\">\n",
    "<td width=\"100px\" style=\"border: none;\"><img width=\"300\" src=\"logo_conda_RGB_inkscape.svg\"></td>\n",
    "<td width=\"50%\" style=\"border: none\"> </td>\n",
    "<td width=\"200px\" style=\"border: none;\">\n",
    "</td>\n",
    "</table>\n",
    "\n",
    "# Managing environments with conda\n",
    "\n",
    "## Geek Meeting, 17/03/2017\n",
    " \n",
    "### By A. Albert"
   ]
  },
  {
   "cell_type": "markdown",
   "metadata": {
    "slideshow": {
     "slide_type": "slide"
    }
   },
   "source": [
    "\n",
    "<table width=\"100%\" style=\"border: none;\">\n",
    "<tr style=\"border: none;\">\n",
    "<td width=\"100px\" style=\"border: none;\"><img width=\"300\" src=\"logo_conda_RGB_inkscape.svg\"></td>\n",
    "<td width=\"50%\" style=\"border: none\"> </td>\n",
    "<td width=\"200px\" style=\"border: none;\">\n",
    "</td>\n",
    "</table>\n",
    "\n",
    "# What is conda ?\n",
    "\n",
    "  - Package, dependency and environment management for any language: Python, R, Ruby, Lua, Scala, Java, Javascript, C/ C++, FORTRAN\n",
    "  - open source package management system and environment management system\n",
    "  - installing multiple versions of software packages and their dependencies and switching easily between them\n",
    "  - works on Linux, OS X and Windows\n",
    "  \n",
    "  \n",
    "  \n",
    "  \n",
    "  \n"
   ]
  },
  {
   "cell_type": "markdown",
   "metadata": {
    "slideshow": {
     "slide_type": "slide"
    }
   },
   "source": [
    "\n",
    "<table width=\"100%\" style=\"border: none;\">\n",
    "<tr style=\"border: none;\">\n",
    "<td width=\"100px\" style=\"border: none;\"><img width=\"300\" src=\"logo_conda_RGB_inkscape.svg\"></td>\n",
    "<td width=\"50%\" style=\"border: none\"> </td>\n",
    "<td width=\"200px\" style=\"border: none;\">\n",
    "</td>\n",
    "</table>\n",
    "\n",
    "# How to get conda ?\n",
    "\n",
    "  - via __Anaconda__ : includes conda, conda-build, Python, and over 150 automatically installed scientific packages and their dependencies, over 970 additional scientific packages can be installed individually with the “conda install” command\n",
    "  - via __Miniconda__ : small “bootstrap” version that includes only conda, Python, and the packages they depend on, 720 scientific packages and their dependencies can be installed individually from the Continuum repository with the “conda install” command  "
   ]
  },
  {
   "cell_type": "markdown",
   "metadata": {
    "slideshow": {
     "slide_type": "subslide"
    }
   },
   "source": [
    "![Anaconda download](anaconda_download.jpg)"
   ]
  },
  {
   "cell_type": "markdown",
   "metadata": {
    "slideshow": {
     "slide_type": "subslide"
    }
   },
   "source": [
    "![Anaconda download](miniconda_download.jpg)"
   ]
  },
  {
   "cell_type": "markdown",
   "metadata": {
    "collapsed": true,
    "slideshow": {
     "slide_type": "slide"
    }
   },
   "source": [
    "<table width=\"100%\" style=\"border: none;\">\n",
    "<tr style=\"border: none;\">\n",
    "<td width=\"100px\" style=\"border: none;\"><img width=\"300\" src=\"logo_conda_RGB_inkscape.svg\"></td>\n",
    "<td width=\"50%\" style=\"border: none\"> </td>\n",
    "<td width=\"200px\" style=\"border: none;\">\n",
    "</td>\n",
    "</table>\n",
    "\n",
    "# How is it working ?\n",
    "\n",
    "  - conda install package\n",
    "  - conda list\n",
    "  - conda search package\n",
    "  - conda update package\n",
    "  - conda uninstall package\n",
    "  - configuration in ~/.condarc :\n",
    "   \n",
    "     * for instance :\n",
    "     \n",
    "           \n",
    "           proxy_servers:\n",
    "                https: https://www-cache.ujf-grenoble.fr:3128 \n",
    "           "
   ]
  },
  {
   "cell_type": "markdown",
   "metadata": {
    "slideshow": {
     "slide_type": "slide"
    }
   },
   "source": [
    "<table width=\"100%\" style=\"border: none;\">\n",
    "<tr style=\"border: none;\">\n",
    "<td width=\"100px\" style=\"border: none;\"><img width=\"300\" src=\"logo_conda_RGB_inkscape.svg\"></td>\n",
    "<td width=\"50%\" style=\"border: none\"> </td>\n",
    "<td width=\"200px\" style=\"border: none;\">\n",
    "</td>\n",
    "</table>\n",
    "\n",
    "# Why using conda to manage environments ?\n",
    "\n",
    "  - different environments on the same laptop allow you to :\n",
    "    - have different version of python\n",
    "    - deal with conflicts between packages\n",
    "  - export to a different laptop\n",
    "  - share with coworker\n"
   ]
  },
  {
   "cell_type": "markdown",
   "metadata": {
    "collapsed": true,
    "slideshow": {
     "slide_type": "slide"
    }
   },
   "source": [
    "<table width=\"100%\" style=\"border: none;\">\n",
    "<tr style=\"border: none;\">\n",
    "<td width=\"100px\" style=\"border: none;\"><img width=\"300\" src=\"logo_conda_RGB_inkscape.svg\"></td>\n",
    "<td width=\"50%\" style=\"border: none\"> </td>\n",
    "<td width=\"200px\" style=\"border: none;\">\n",
    "</td>\n",
    "</table>\n",
    "\n",
    "# How to use conda to manage environments ?\n",
    "\n",
    "   - create an environment : \n",
    "     - conda create --name snowflakes biopython\n",
    "     - conda create --name bunnies python=3 astroid babel\n",
    "   - de/activate an environment : \n",
    "     - source activate snowflakes\n",
    "     - source deactivate\n",
    "   - conda env list\n",
    "   - export and share\n",
    "     - here : conda env export > environment.yml\n",
    "     - there : conda env create -f environment.yml + activate\n"
   ]
  },
  {
   "cell_type": "markdown",
   "metadata": {
    "slideshow": {
     "slide_type": "subslide"
    }
   },
   "source": [
    "   - example of yml file :\n",
    "     \n",
    "      ```\n",
    "      name: stats2\n",
    "      channels:\n",
    "       - javascript\n",
    "      dependencies:\n",
    "       - python=3.4   # or 2.7\n",
    "       - bokeh=0.9.2\n",
    "       - numpy=1.9.*\n",
    "       - nodejs=0.10.*\n",
    "       - flask\n",
    "       - pip:\n",
    "        - Flask-Testing\n",
    "        ```\n",
    "        \n"
   ]
  },
  {
   "cell_type": "markdown",
   "metadata": {
    "slideshow": {
     "slide_type": "subslide"
    }
   },
   "source": [
    "   - build identical env\n",
    "     - conda list --explicit > spec-file.txt\n",
    "     - conda create --name MyEnvironment --file spec-file.txt\n",
    "     - conda install --name MyEnvironment --file spec-file.txt (different laptop but same platform)"
   ]
  },
  {
   "cell_type": "markdown",
   "metadata": {
    "slideshow": {
     "slide_type": "slide"
    }
   },
   "source": [
    "<table width=\"100%\" style=\"border: none;\">\n",
    "<tr style=\"border: none;\">\n",
    "<td width=\"100px\" style=\"border: none;\"><img width=\"300\" src=\"logo_conda_RGB_inkscape.svg\"></td>\n",
    "<td width=\"50%\" style=\"border: none\"> </td>\n",
    "<td width=\"200px\" style=\"border: none;\">\n",
    "</td>\n",
    "</table>\n",
    "\n",
    "# Source\n",
    "\n",
    "https://conda.io/docs/index.html\n",
    "\n",
    "![conda website](website_conda.jpg)"
   ]
  }
 ],
 "metadata": {
  "celltoolbar": "Slideshow",
  "kernelspec": {
   "display_name": "Python [Root]",
   "language": "python",
   "name": "Python [Root]"
  },
  "language_info": {
   "codemirror_mode": {
    "name": "ipython",
    "version": 2
   },
   "file_extension": ".py",
   "mimetype": "text/x-python",
   "name": "python",
   "nbconvert_exporter": "python",
   "pygments_lexer": "ipython2",
   "version": "2.7.11"
  }
 },
 "nbformat": 4,
 "nbformat_minor": 0
}
