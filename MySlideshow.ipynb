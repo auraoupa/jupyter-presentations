{
 "cells": [
  {
   "cell_type": "markdown",
   "metadata": {
    "slideshow": {
     "slide_type": "slide"
    }
   },
   "source": [
    "<table width=\"100%\" style=\"border: none;\">\n",
    "<tr style=\"border: none;\">\n",
    "<td width=\"100px\" style=\"border: none;\"><img width=\"100\" src=\"https://git-scm.com/images/logo@2x.png\"></img></td>\n",
    "<td width=\"50%\" style=\"border: none\"> </td>\n",
    "<td width=\"200px\" style=\"border: none;\">\n",
    "<img width=\"200\" src=\"http://franck-ridel.fr/wp-content/uploads/2016/08/image.jpg\"></img>\n",
    "</td>\n",
    "</table>\n",
    "\n",
    "# Git basic commands and github usage\n",
    " \n",
    "## By A. Albert"
   ]
  },
  {
   "cell_type": "markdown",
   "metadata": {
    "slideshow": {
     "slide_type": "slide"
    }
   },
   "source": [
    "# Why use a version control system ?\n",
    "\n",
    "- for collaborative work (ex: NEMO, CDFTOOLS, oocgcm, MEOM website)\n",
    "- for personnal work : accessibility from any machine, keeping tracks of modifications (ex: JLS notebools, presentations, scripts, etc ...)"
   ]
  },
  {
   "cell_type": "markdown",
   "metadata": {
    "slideshow": {
     "slide_type": "slide"
    }
   },
   "source": [
    "# Specificity of git\n",
    "\n",
    "- snpashots instead of file-based changes\n",
    "- distributed instead of centralized\n",
    "- we can keep everything local (=offline)\n",
    "- 3 states of files : modified, staged, commited"
   ]
  },
  {
   "cell_type": "markdown",
   "metadata": {
    "slideshow": {
     "slide_type": "slide"
    }
   },
   "source": [
    "![stagging area](https://git-scm.com/images/about/index1@2x.png)"
   ]
  },
  {
   "cell_type": "markdown",
   "metadata": {
    "slideshow": {
     "slide_type": "slide"
    }
   },
   "source": [
    "# Example 1 : transform a simple directory into a git repository\n"
   ]
  },
  {
   "cell_type": "markdown",
   "metadata": {
    "slideshow": {
     "slide_type": "subslide"
    }
   },
   "source": [
    "![line of commands](ex1-1.png)"
   ]
  },
  {
   "cell_type": "markdown",
   "metadata": {
    "slideshow": {
     "slide_type": "subslide"
    }
   },
   "source": [
    "![line of commands](ex1-2.png)"
   ]
  },
  {
   "cell_type": "markdown",
   "metadata": {
    "slideshow": {
     "slide_type": "subslide"
    }
   },
   "source": [
    "![line of commands](ex1-3.png)"
   ]
  },
  {
   "cell_type": "markdown",
   "metadata": {
    "slideshow": {
     "slide_type": "subslide"
    }
   },
   "source": [
    "![line of commands](ex1-4.png)"
   ]
  },
  {
   "cell_type": "markdown",
   "metadata": {
    "slideshow": {
     "slide_type": "slide"
    }
   },
   "source": [
    "# Git commands\n",
    "\n",
    "    > git init\n",
    "    > git add *\n",
    "    > git commit -m \"comment\"\n",
    "    > git status\n",
    "    > git log"
   ]
  },
  {
   "cell_type": "markdown",
   "metadata": {
    "slideshow": {
     "slide_type": "slide"
    }
   },
   "source": [
    "# Example 2 : clone an existing repository\n",
    "\n"
   ]
  },
  {
   "cell_type": "markdown",
   "metadata": {
    "slideshow": {
     "slide_type": "slide"
    }
   },
   "source": [
    "[![Git video by S. Chacon](http://img.youtube.com/vi/ZDR433b0HJY/0.jpg)](https://www.youtube.com/watch?v=ZDR433b0HJY)"
   ]
  },
  {
   "cell_type": "code",
   "execution_count": null,
   "metadata": {
    "collapsed": true
   },
   "outputs": [],
   "source": []
  }
 ],
 "metadata": {
  "celltoolbar": "Slideshow",
  "kernelspec": {
   "display_name": "Python [Root]",
   "language": "python",
   "name": "Python [Root]"
  },
  "language_info": {
   "codemirror_mode": {
    "name": "ipython",
    "version": 2
   },
   "file_extension": ".py",
   "mimetype": "text/x-python",
   "name": "python",
   "nbconvert_exporter": "python",
   "pygments_lexer": "ipython2",
   "version": "2.7.11"
  }
 },
 "nbformat": 4,
 "nbformat_minor": 0
}
